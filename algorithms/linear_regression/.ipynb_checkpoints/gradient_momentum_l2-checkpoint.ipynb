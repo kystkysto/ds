{
 "cells": [
  {
   "cell_type": "code",
   "execution_count": 15,
   "id": "861a95be",
   "metadata": {},
   "outputs": [],
   "source": [
    "# 🚀 Линейная регрессия с Momentum и L2-регуляризацией\n",
    "### Улучшенная версия с фиксами NaN, градиентным клиппингом и проверкой начальных условий\n",
    "import numpy as np\n",
    "import matplotlib.pyplot as plt"
   ]
  },
  {
   "cell_type": "code",
   "execution_count": 2,
   "id": "1ee65900",
   "metadata": {},
   "outputs": [],
   "source": [
    "# 📌 Создаем данные: рост, возраст → вес\n",
    "X = np.array([\n",
    "    [1.7, 25], [1.8, 30], [1.6, 20], [1.75, 35],\n",
    "    [1.65, 40], [1.85, 45], [1.55, 18], [1.70, 29],\n",
    "    [1.78, 33], [1.62, 21]\n",
    "])\n",
    "y = np.array([70, 80, 55, 78, 65, 90, 50, 74, 82, 58])"
   ]
  },
  {
   "cell_type": "code",
   "execution_count": 3,
   "id": "1c82a14c",
   "metadata": {},
   "outputs": [],
   "source": [
    "# 📌 Разделяем на train (80%) и validation (20%)\n",
    "N = len(X)\n",
    "split_idx = int(N * 0.8)\n",
    "X_train, X_val = X[:split_idx], X[split_idx:]\n",
    "y_train, y_val = y[:split_idx], y[split_idx:]"
   ]
  },
  {
   "cell_type": "code",
   "execution_count": 4,
   "id": "862fd808",
   "metadata": {},
   "outputs": [],
   "source": [
    "# 📌 Нормализация данных (Standardization)\n",
    "mean_X = np.mean(X_train, axis=0)\n",
    "std_X = np.std(X_train, axis=0)\n",
    "X_train = (X_train - mean_X) / std_X\n",
    "X_val = (X_val - mean_X) / std_X\n",
    "\n",
    "mean_y = np.mean(y_train)\n",
    "std_y = np.std(y_train)\n",
    "y_train = (y_train - mean_y) / std_y\n",
    "y_val = (y_val - mean_y) / std_y"
   ]
  },
  {
   "cell_type": "code",
   "execution_count": 5,
   "id": "2f85a5a0",
   "metadata": {},
   "outputs": [],
   "source": [
    "# 📌 Параметры обучения\n",
    "learning_rate = 0.00005 # Уменьшаем шаг обучения\n",
    "epochs = 5000  # Количество эпох\n",
    "momentum = 0.8  # Коэффициент Momentum\n",
    "lambda_reg = 0.01  # Коэффициент L2-регуляризации (чем больше, тем сильнее штраф за большие веса)\n",
    "clip_value = 1.0  # Ограничение градиентов\n",
    "\n",
    "# Лог для отслеживания процесса\n",
    "losses = []\n",
    "w1_history, w2_history, b_history = [], [], []"
   ]
  },
  {
   "cell_type": "code",
   "execution_count": 6,
   "id": "466ecebb",
   "metadata": {},
   "outputs": [],
   "source": [
    "# 📌 Инициализируем случайные веса\n",
    "w1, w2, b = np.random.randn(), np.random.randn(), np.random.randn()"
   ]
  },
  {
   "cell_type": "code",
   "execution_count": 7,
   "id": "1b8c27fd",
   "metadata": {},
   "outputs": [],
   "source": [
    "# 🚨 Проверяем, что веса не NaN, иначе переопределяем\n",
    "if np.isnan(w1) or np.isnan(w2) or np.isnan(b):\n",
    "    print(\"Обнаружены NaN в весах! Переинициализируем...\")\n",
    "    w1, w2, b = np.random.randn(), np.random.randn(), np.random.randn()\n"
   ]
  },
  {
   "cell_type": "code",
   "execution_count": 8,
   "id": "3b1cb03a",
   "metadata": {},
   "outputs": [],
   "source": [
    "# 📌 Создаем \"скорости\" для Momentum (изначально = 0)\n",
    "v_w1, v_w2, v_b = 0, 0, 0"
   ]
  },
  {
   "cell_type": "code",
   "execution_count": 9,
   "id": "b2d1cecf",
   "metadata": {},
   "outputs": [
    {
     "name": "stdout",
     "output_type": "stream",
     "text": [
      "Начальные веса: w1=-1.826, w2=0.175, b=0.369\n"
     ]
    }
   ],
   "source": [
    "# Выводим начальные веса\n",
    "print(f\"Начальные веса: w1={w1:.3f}, w2={w2:.3f}, b={b:.3f}\")"
   ]
  },
  {
   "cell_type": "code",
   "execution_count": 10,
   "id": "9d379452",
   "metadata": {},
   "outputs": [],
   "source": [
    "# 📌 Функция потерь (MSE) с L2-регуляризацией\n",
    "def mse(y_true, y_pred):\n",
    "    loss = np.mean((y_true - y_pred) ** 2)\n",
    "    reg = lambda_reg * (w1**2 + w2**2)  # Убрали лишние np.nan_to_num()\n",
    "    return loss + reg"
   ]
  },
  {
   "cell_type": "code",
   "execution_count": 11,
   "id": "54917c63",
   "metadata": {},
   "outputs": [
    {
     "name": "stdout",
     "output_type": "stream",
     "text": [
      "Эпоха 0, Ошибка: 7.402, w1=-1.82602, w2=0.17459, b=0.36943\n",
      "Эпоха 100, Ошибка: 7.170, w1=-1.80182, w2=0.19879, b=0.35194\n",
      "Эпоха 200, Ошибка: 6.932, w1=-1.77682, w2=0.22379, b=0.33474\n",
      "Эпоха 300, Ошибка: 6.701, w1=-1.75182, w2=0.24879, b=0.31838\n",
      "Эпоха 400, Ошибка: 6.475, w1=-1.72682, w2=0.27379, b=0.30281\n",
      "Эпоха 500, Ошибка: 6.254, w1=-1.70182, w2=0.29879, b=0.28801\n",
      "Эпоха 600, Ошибка: 6.038, w1=-1.67682, w2=0.32379, b=0.27394\n",
      "Эпоха 700, Ошибка: 5.827, w1=-1.65182, w2=0.34879, b=0.26055\n",
      "Эпоха 800, Ошибка: 5.622, w1=-1.62682, w2=0.37379, b=0.24781\n",
      "Эпоха 900, Ошибка: 5.421, w1=-1.60182, w2=0.39879, b=0.23570\n",
      "Эпоха 1000, Ошибка: 5.225, w1=-1.57682, w2=0.42379, b=0.22418\n",
      "Эпоха 1100, Ошибка: 5.034, w1=-1.55182, w2=0.44879, b=0.21322\n",
      "Эпоха 1200, Ошибка: 4.848, w1=-1.52682, w2=0.47379, b=0.20280\n",
      "Эпоха 1300, Ошибка: 4.667, w1=-1.50182, w2=0.49879, b=0.19289\n",
      "Эпоха 1400, Ошибка: 4.490, w1=-1.47682, w2=0.52379, b=0.18346\n",
      "Эпоха 1500, Ошибка: 4.318, w1=-1.45182, w2=0.54879, b=0.17449\n",
      "Эпоха 1600, Ошибка: 4.151, w1=-1.42682, w2=0.57379, b=0.16596\n",
      "Эпоха 1700, Ошибка: 3.988, w1=-1.40182, w2=0.59879, b=0.15785\n",
      "Эпоха 1800, Ошибка: 3.830, w1=-1.37682, w2=0.62379, b=0.15014\n",
      "Эпоха 1900, Ошибка: 3.676, w1=-1.35182, w2=0.64879, b=0.14280\n",
      "Эпоха 2000, Ошибка: 3.527, w1=-1.32682, w2=0.67379, b=0.13582\n",
      "Эпоха 2100, Ошибка: 3.383, w1=-1.30182, w2=0.69879, b=0.12918\n",
      "Эпоха 2200, Ошибка: 3.243, w1=-1.27682, w2=0.72379, b=0.12286\n",
      "Эпоха 2300, Ошибка: 3.108, w1=-1.25182, w2=0.74879, b=0.11686\n",
      "Эпоха 2400, Ошибка: 2.977, w1=-1.22682, w2=0.77379, b=0.11115\n",
      "Эпоха 2500, Ошибка: 2.850, w1=-1.20182, w2=0.79879, b=0.10571\n",
      "Эпоха 2600, Ошибка: 2.728, w1=-1.17682, w2=0.82379, b=0.10055\n",
      "Эпоха 2700, Ошибка: 2.611, w1=-1.15182, w2=0.84879, b=0.09563\n",
      "Эпоха 2800, Ошибка: 2.498, w1=-1.12682, w2=0.87379, b=0.09096\n",
      "Эпоха 2900, Ошибка: 2.389, w1=-1.10182, w2=0.89879, b=0.08651\n",
      "Эпоха 3000, Ошибка: 2.285, w1=-1.07682, w2=0.92379, b=0.08228\n",
      "Эпоха 3100, Ошибка: 2.185, w1=-1.05182, w2=0.94879, b=0.07826\n",
      "Эпоха 3200, Ошибка: 2.090, w1=-1.02682, w2=0.97379, b=0.07444\n",
      "Эпоха 3300, Ошибка: 1.999, w1=-1.00182, w2=0.99879, b=0.07080\n",
      "Эпоха 3400, Ошибка: 1.913, w1=-0.97682, w2=1.02259, b=0.06734\n",
      "Эпоха 3500, Ошибка: 1.833, w1=-0.95182, w2=1.04433, b=0.06405\n",
      "Эпоха 3600, Ошибка: 1.759, w1=-0.92682, w2=1.06410, b=0.06092\n",
      "Эпоха 3700, Ошибка: 1.689, w1=-0.90182, w2=1.08201, b=0.05794\n",
      "Эпоха 3800, Ошибка: 1.624, w1=-0.87682, w2=1.09814, b=0.05511\n",
      "Эпоха 3900, Ошибка: 1.563, w1=-0.85182, w2=1.11259, b=0.05241\n",
      "Эпоха 4000, Ошибка: 1.505, w1=-0.82682, w2=1.12543, b=0.04985\n",
      "Эпоха 4100, Ошибка: 1.450, w1=-0.80182, w2=1.13675, b=0.04741\n",
      "Эпоха 4200, Ошибка: 1.399, w1=-0.77682, w2=1.14662, b=0.04510\n",
      "Эпоха 4300, Ошибка: 1.350, w1=-0.75182, w2=1.15511, b=0.04289\n",
      "Эпоха 4400, Ошибка: 1.303, w1=-0.72682, w2=1.16230, b=0.04080\n",
      "Эпоха 4500, Ошибка: 1.259, w1=-0.70182, w2=1.16823, b=0.03880\n",
      "Эпоха 4600, Ошибка: 1.216, w1=-0.67682, w2=1.17299, b=0.03691\n",
      "Эпоха 4700, Ошибка: 1.175, w1=-0.65182, w2=1.17662, b=0.03510\n",
      "Эпоха 4800, Ошибка: 1.136, w1=-0.62682, w2=1.17917, b=0.03339\n",
      "Эпоха 4900, Ошибка: 1.099, w1=-0.60182, w2=1.18072, b=0.03175\n"
     ]
    }
   ],
   "source": [
    "# 📌 Запуск обучения\n",
    "for epoch in range(epochs):\n",
    "    # Предсказание\n",
    "    y_pred = w1 * X_train[:, 0] + w2 * X_train[:, 1] + b\n",
    "    \n",
    "    # Вычисляем ошибку\n",
    "    loss = mse(y_train, y_pred)\n",
    "    losses.append(loss)\n",
    "\n",
    "    # Сохранение истории весов\n",
    "    w1_history.append(w1)\n",
    "    w2_history.append(w2)\n",
    "    b_history.append(b)\n",
    "\n",
    "    # 📌 Вычисление градиентов с учетом L2-регуляризации\n",
    "    dw1 = -2 * np.mean((y_train - y_pred) * X_train[:, 0]) + 2 * lambda_reg * w1\n",
    "    dw2 = -2 * np.mean((y_train - y_pred) * X_train[:, 1]) + 2 * lambda_reg * w2\n",
    "    db = -2 * np.mean(y_train - y_pred)\n",
    "\n",
    "    # 📌 Градиентный клиппинг\n",
    "    dw1 = np.clip(dw1, -clip_value, clip_value)\n",
    "    dw2 = np.clip(dw2, -clip_value, clip_value)\n",
    "    db = np.clip(db, -clip_value, clip_value)\n",
    "\n",
    "    # 📌 Momentum: обновление \"скорости\" градиентов\n",
    "    v_w1 = momentum * v_w1 + learning_rate * dw1\n",
    "    v_w2 = momentum * v_w2 + learning_rate * dw2\n",
    "    v_b = momentum * v_b + learning_rate * db\n",
    "\n",
    "    # 📌 Обновляем веса\n",
    "    w1 -= v_w1\n",
    "    w2 -= v_w2\n",
    "    b -= v_b\n",
    "\n",
    "    # 📌 Вывод ошибки каждые 100 эпох\n",
    "    if epoch % 100 == 0:\n",
    "        print(f\"Эпоха {epoch}, Ошибка: {loss:.3f}, w1={w1:.5f}, w2={w2:.5f}, b={b:.5f}\")\n",
    "\n"
   ]
  },
  {
   "cell_type": "code",
   "execution_count": 12,
   "id": "11716e24",
   "metadata": {},
   "outputs": [
    {
     "data": {
      "image/png": "[encoded data removed]",
      "text/plain": [
       "<Figure size 1200x500 with 2 Axes>"
      ]
     },
     "metadata": {},
     "output_type": "display_data"
    }
   ],
   "source": [
    "# 📌 Визуализация результатов\n",
    "plt.figure(figsize=(12, 5))\n",
    "\n",
    "# График снижения ошибки (Loss Curve)\n",
    "plt.subplot(1, 2, 1)\n",
    "plt.plot(losses, label='MSE Loss', color='blue')\n",
    "plt.xlabel('Эпохи')\n",
    "plt.ylabel('Ошибка')\n",
    "plt.title('График снижения ошибки')\n",
    "plt.legend()\n",
    "\n",
    "# График изменения весов\n",
    "plt.subplot(1, 2, 2)\n",
    "plt.plot(w1_history, label='w1', color='red')\n",
    "plt.plot(w2_history, label='w2', color='green')\n",
    "plt.plot(b_history, label='b', color='orange')\n",
    "plt.xlabel('Эпохи')\n",
    "plt.ylabel('Значение весов')\n",
    "plt.title('Изменение весов')\n",
    "plt.legend()\n",
    "\n",
    "plt.show()"
   ]
  },
  {
   "cell_type": "code",
   "execution_count": 13,
   "id": "d460ae53",
   "metadata": {},
   "outputs": [
    {
     "name": "stdout",
     "output_type": "stream",
     "text": [
      "📊 Ошибка на валидационных данных (MSE): 0.597\n"
     ]
    }
   ],
   "source": [
    "# 📌 Оценка модели на тестовых данных\n",
    "y_val_pred = w1 * X_val[:, 0] + w2 * X_val[:, 1] + b\n",
    "val_loss = mse(y_val, y_val_pred)\n",
    "print(f\"📊 Ошибка на валидационных данных (MSE): {val_loss:.3f}\")"
   ]
  },
  {
   "cell_type": "code",
   "execution_count": 14,
   "id": "66543f88",
   "metadata": {},
   "outputs": [
    {
     "name": "stdout",
     "output_type": "stream",
     "text": [
      "🔮 Предсказанный вес для роста 1.72м и возраста 28 лет: 65.35 кг\n"
     ]
    }
   ],
   "source": [
    "# 📌 Тестируем модель на новых данных\n",
    "рост = 1.72\n",
    "возраст = 28\n",
    "X_new = np.array([[рост, возраст]])\n",
    "X_new = (X_new - mean_X) / std_X  # **Нормализация новых данных**\n",
    "\n",
    "предсказанный_вес_norm = w1 * X_new[0, 0] + w2 * X_new[0, 1] + b\n",
    "предсказанный_вес = (предсказанный_вес_norm * std_y) + mean_y  # **Обратная нормализация**\n",
    "\n",
    "print(f\"🔮 Предсказанный вес для роста {рост}м и возраста {возраст} лет: {предсказанный_вес:.2f} кг\")\n"
   ]
  }
 ],
 "metadata": {
  "kernelspec": {
   "display_name": "Python 3 (ipykernel)",
   "language": "python",
   "name": "python3"
  },
  "language_info": {
   "codemirror_mode": {
    "name": "ipython",
    "version": 3
   },
   "file_extension": ".py",
   "mimetype": "text/x-python",
   "name": "python",
   "nbconvert_exporter": "python",
   "pygments_lexer": "ipython3",
   "version": "3.7.3"
  }
 },
 "nbformat": 4,
 "nbformat_minor": 5
}
