{
 "cells": [
  {
   "cell_type": "markdown",
   "id": "eb18274a",
   "metadata": {},
   "source": [
    "# 📖 Метод нормального уравнения в линейной регрессии\n",
    "\n",
    "## 🔹 Формула метода нормального уравнения\n",
    "\n",
    "$$ \\theta = (X^T X)^{-1} X^T y $$\n",
    "\n",
    "где:\n",
    "- \\(X\\) — матрица признаков (с добавленной колонкой 1 для смещения),\n",
    "- \\(y\\) — вектор целевых значений (цена авто),\n",
    "- \\(\\theta\\) — веса модели (включая смещение).\n",
    "\n",
    "🔹 **Цель:** Построить модель линейной регрессии и оценить ее качество с помощью метрик **MSE** и \\( R^2 \\).\n"
   ]
  },
  {
   "cell_type": "code",
   "execution_count": null,
   "id": "2ee3e8c9",
   "metadata": {},
   "outputs": [],
   "source": []
  }
 ],
 "metadata": {
  "kernelspec": {
   "display_name": "Python 3 (ipykernel)",
   "language": "python",
   "name": "python3"
  },
  "language_info": {
   "codemirror_mode": {
    "name": "ipython",
    "version": 3
   },
   "file_extension": ".py",
   "mimetype": "text/x-python",
   "name": "python",
   "nbconvert_exporter": "python",
   "pygments_lexer": "ipython3",
   "version": "3.7.3"
  }
 },
 "nbformat": 4,
 "nbformat_minor": 5
}
