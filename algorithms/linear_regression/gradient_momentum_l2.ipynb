{
 "cells": [
  {
   "cell_type": "code",
   "execution_count": 11,
   "id": "4510d0e5",
   "metadata": {},
   "outputs": [],
   "source": [
    "# 🚀 Линейная регрессия с Momentum и L2-регуляризацией\n",
    "### Улучшенная версия с фиксами NaN, градиентным клиппингом и проверкой начальных условий\n"
   ]
  },
  {
   "cell_type": "code",
   "execution_count": 3,
   "id": "861a95be",
   "metadata": {},
   "outputs": [],
   "source": [
    "import numpy as np\n",
    "import matplotlib.pyplot as plt"
   ]
  },
  {
   "cell_type": "code",
   "execution_count": 31,
   "id": "1ee65900",
   "metadata": {},
   "outputs": [],
   "source": [
    "# 📌 Создаем данные: рост, возраст → вес\n",
    "X = np.array([\n",
    "    [1.7, 25], [1.8, 30], [1.6, 20], [1.75, 35],\n",
    "    [1.65, 40], [1.85, 45], [1.55, 18], [1.70, 29],\n",
    "    [1.78, 33], [1.62, 21]\n",
    "])\n",
    "y = np.array([70, 80, 55, 78, 65, 90, 50, 74, 82, 58])"
   ]
  },
  {
   "cell_type": "code",
   "execution_count": 32,
   "id": "79faf2e0",
   "metadata": {},
   "outputs": [],
   "source": [
    "# 📌 Создаем данные: рост, возраст → вес\n",
    "X = np.array([\n",
    "    [1.7, 25], [1.8, 30], [1.6, 20], [1.75, 35],\n",
    "    [1.65, 40], [1.85, 45], [1.55, 18], [1.70, 29],\n",
    "    [1.78, 33], [1.62, 21]\n",
    "])\n",
    "y = np.array([70, 80, 55, 78, 65, 90, 50, 74, 82, 58])"
   ]
  },
  {
   "cell_type": "code",
   "execution_count": 33,
   "id": "1c82a14c",
   "metadata": {},
   "outputs": [],
   "source": [
    "# 📌 Разделяем на train (80%) и validation (20%)\n",
    "N = len(X)\n",
    "split_idx = int(N * 0.8)\n",
    "X_train, X_val = X[:split_idx], X[split_idx:]\n",
    "y_train, y_val = y[:split_idx], y[split_idx:]"
   ]
  },
  {
   "cell_type": "code",
   "execution_count": 34,
   "id": "862fd808",
   "metadata": {},
   "outputs": [],
   "source": [
    "# 📌 Нормализация данных (Standardization)\n",
    "mean_X = np.mean(X_train, axis=0)\n",
    "std_X = np.std(X_train, axis=0)\n",
    "X_train = (X_train - mean_X) / std_X\n",
    "X_val = (X_val - mean_X) / std_X\n",
    "\n",
    "mean_y = np.mean(y_train)\n",
    "std_y = np.std(y_train)\n",
    "y_train = (y_train - mean_y) / std_y\n",
    "y_val = (y_val - mean_y) / std_y"
   ]
  },
  {
   "cell_type": "code",
   "execution_count": 26,
   "id": "2f85a5a0",
   "metadata": {},
   "outputs": [],
   "source": [
    "# 📌 Параметры обучения\n",
    "learning_rate = 0.00005 # Уменьшаем шаг обучения\n",
    "epochs = 5000  # Количество эпох\n",
    "momentum = 0.8  # Коэффициент Momentum\n",
    "lambda_reg = 0.01  # Коэффициент L2-регуляризации (чем больше, тем сильнее штраф за большие веса)\n",
    "clip_value = 1.0  # Ограничение градиентов\n",
    "\n",
    "# Лог для отслеживания процесса\n",
    "losses = []\n",
    "w1_history, w2_history, b_history = [], [], []"
   ]
  },
  {
   "cell_type": "code",
   "execution_count": 36,
   "id": "466ecebb",
   "metadata": {},
   "outputs": [],
   "source": [
    "# 📌 Инициализируем случайные веса\n",
    "w1, w2, b = np.random.randn(), np.random.randn(), np.random.randn()"
   ]
  },
  {
   "cell_type": "code",
   "execution_count": 37,
   "id": "1b8c27fd",
   "metadata": {},
   "outputs": [],
   "source": [
    "# 🚨 Проверяем, что веса не NaN, иначе переопределяем\n",
    "if np.isnan(w1) or np.isnan(w2) or np.isnan(b):\n",
    "    print(\"Обнаружены NaN в весах! Переинициализируем...\")\n",
    "    w1, w2, b = np.random.randn(), np.random.randn(), np.random.randn()\n"
   ]
  },
  {
   "cell_type": "code",
   "execution_count": 38,
   "id": "3b1cb03a",
   "metadata": {},
   "outputs": [],
   "source": [
    "# 📌 Создаем \"скорости\" для Momentum (изначально = 0)\n",
    "v_w1, v_w2, v_b = 0, 0, 0"
   ]
  },
  {
   "cell_type": "code",
   "execution_count": 39,
   "id": "b2d1cecf",
   "metadata": {},
   "outputs": [
    {
     "name": "stdout",
     "output_type": "stream",
     "text": [
      "Начальные веса: w1=-0.780, w2=0.291, b=0.306\n"
     ]
    }
   ],
   "source": [
    "# Выводим начальные веса\n",
    "print(f\"Начальные веса: w1={w1:.3f}, w2={w2:.3f}, b={b:.3f}\")"
   ]
  },
  {
   "cell_type": "code",
   "execution_count": 40,
   "id": "f79f910c",
   "metadata": {},
   "outputs": [],
   "source": [
    "# 📌 Параметры обучения\n",
    "learning_rate = 0.00005  # Уменьшаем шаг обучения\n",
    "epochs = 5000  # Количество эпох\n",
    "momentum = 0.8  # Коэффициент Momentum\n",
    "lambda_reg = 0.01  # Коэффициент L2-регуляризации (чем больше, тем сильнее штраф за большие веса)\n",
    "clip_value = 1.0  # Ограничение градиентов\n",
    "\n",
    "# Лог для отслеживания процесса\n",
    "losses = []\n",
    "w1_history, w2_history, b_history = [], [], []\n"
   ]
  },
  {
   "cell_type": "code",
   "execution_count": 41,
   "id": "9d379452",
   "metadata": {},
   "outputs": [],
   "source": [
    "# 📌 Функция потерь (MSE) с L2-регуляризацией\n",
    "def mse(y_true, y_pred):\n",
    "    loss = np.mean((y_true - y_pred) ** 2)\n",
    "    reg = lambda_reg * (w1**2 + w2**2)  # Убрали лишние np.nan_to_num()\n",
    "    return loss + reg"
   ]
  },
  {
   "cell_type": "code",
   "execution_count": 42,
   "id": "54917c63",
   "metadata": {},
   "outputs": [
    {
     "name": "stdout",
     "output_type": "stream",
     "text": [
      "Эпоха 0, Ошибка: 2.552, w1=-0.78037, w2=0.29117, b=0.30570\n",
      "Эпоха 100, Ошибка: 2.420, w1=-0.75617, w2=0.31537, b=0.29123\n",
      "Эпоха 200, Ошибка: 2.288, w1=-0.73117, w2=0.34037, b=0.27699\n",
      "Эпоха 300, Ошибка: 2.160, w1=-0.70617, w2=0.36537, b=0.26345\n",
      "Эпоха 400, Ошибка: 2.038, w1=-0.68117, w2=0.39037, b=0.25058\n",
      "Эпоха 500, Ошибка: 1.921, w1=-0.65617, w2=0.41537, b=0.23833\n",
      "Эпоха 600, Ошибка: 1.809, w1=-0.63117, w2=0.44037, b=0.22668\n",
      "Эпоха 700, Ошибка: 1.701, w1=-0.60617, w2=0.46537, b=0.21560\n",
      "Эпоха 800, Ошибка: 1.599, w1=-0.58117, w2=0.49037, b=0.20506\n",
      "Эпоха 900, Ошибка: 1.501, w1=-0.55617, w2=0.51537, b=0.19504\n",
      "Эпоха 1000, Ошибка: 1.408, w1=-0.53117, w2=0.54037, b=0.18551\n",
      "Эпоха 1100, Ошибка: 1.320, w1=-0.50617, w2=0.56537, b=0.17644\n",
      "Эпоха 1200, Ошибка: 1.236, w1=-0.48117, w2=0.59037, b=0.16781\n",
      "Эпоха 1300, Ошибка: 1.157, w1=-0.45617, w2=0.61527, b=0.15961\n",
      "Эпоха 1400, Ошибка: 1.084, w1=-0.43117, w2=0.63857, b=0.15181\n",
      "Эпоха 1500, Ошибка: 1.017, w1=-0.40617, w2=0.65982, b=0.14439\n",
      "Эпоха 1600, Ошибка: 0.955, w1=-0.38117, w2=0.67914, b=0.13733\n",
      "Эпоха 1700, Ошибка: 0.898, w1=-0.35617, w2=0.69661, b=0.13062\n",
      "Эпоха 1800, Ошибка: 0.846, w1=-0.33117, w2=0.71233, b=0.12424\n",
      "Эпоха 1900, Ошибка: 0.797, w1=-0.30617, w2=0.72638, b=0.11816\n",
      "Эпоха 2000, Ошибка: 0.752, w1=-0.28117, w2=0.73885, b=0.11239\n",
      "Эпоха 2100, Ошибка: 0.711, w1=-0.25617, w2=0.74981, b=0.10689\n",
      "Эпоха 2200, Ошибка: 0.672, w1=-0.23117, w2=0.75934, b=0.10167\n",
      "Эпоха 2300, Ошибка: 0.635, w1=-0.20617, w2=0.76751, b=0.09670\n",
      "Эпоха 2400, Ошибка: 0.602, w1=-0.18117, w2=0.77439, b=0.09197\n",
      "Эпоха 2500, Ошибка: 0.570, w1=-0.15617, w2=0.78004, b=0.08748\n",
      "Эпоха 2600, Ошибка: 0.541, w1=-0.13117, w2=0.78452, b=0.08320\n",
      "Эпоха 2700, Ошибка: 0.513, w1=-0.10617, w2=0.78788, b=0.07914\n",
      "Эпоха 2800, Ошибка: 0.487, w1=-0.08121, w2=0.79019, b=0.07527\n",
      "Эпоха 2900, Ошибка: 0.463, w1=-0.05718, w2=0.79151, b=0.07159\n",
      "Эпоха 3000, Ошибка: 0.442, w1=-0.03436, w2=0.79193, b=0.06809\n",
      "Эпоха 3100, Ошибка: 0.422, w1=-0.01267, w2=0.79153, b=0.06476\n",
      "Эпоха 3200, Ошибка: 0.405, w1=0.00798, w2=0.79040, b=0.06160\n",
      "Эпоха 3300, Ошибка: 0.389, w1=0.02765, w2=0.78860, b=0.05859\n",
      "Эпоха 3400, Ошибка: 0.374, w1=0.04643, w2=0.78621, b=0.05572\n",
      "Эпоха 3500, Ошибка: 0.361, w1=0.06438, w2=0.78328, b=0.05300\n",
      "Эпоха 3600, Ошибка: 0.348, w1=0.08156, w2=0.77986, b=0.05041\n",
      "Эпоха 3700, Ошибка: 0.337, w1=0.09801, w2=0.77602, b=0.04794\n",
      "Эпоха 3800, Ошибка: 0.326, w1=0.11380, w2=0.77179, b=0.04560\n",
      "Эпоха 3900, Ошибка: 0.315, w1=0.12896, w2=0.76722, b=0.04337\n",
      "Эпоха 4000, Ошибка: 0.306, w1=0.14355, w2=0.76234, b=0.04125\n",
      "Эпоха 4100, Ошибка: 0.297, w1=0.15759, w2=0.75719, b=0.03924\n",
      "Эпоха 4200, Ошибка: 0.288, w1=0.17112, w2=0.75181, b=0.03732\n",
      "Эпоха 4300, Ошибка: 0.280, w1=0.18419, w2=0.74622, b=0.03549\n",
      "Эпоха 4400, Ошибка: 0.272, w1=0.19681, w2=0.74044, b=0.03376\n",
      "Эпоха 4500, Ошибка: 0.265, w1=0.20901, w2=0.73451, b=0.03211\n",
      "Эпоха 4600, Ошибка: 0.257, w1=0.22083, w2=0.72844, b=0.03054\n",
      "Эпоха 4700, Ошибка: 0.251, w1=0.23228, w2=0.72226, b=0.02905\n",
      "Эпоха 4800, Ошибка: 0.244, w1=0.24339, w2=0.71598, b=0.02763\n",
      "Эпоха 4900, Ошибка: 0.238, w1=0.25418, w2=0.70961, b=0.02628\n"
     ]
    }
   ],
   "source": [
    "# 📌 Запуск обучения\n",
    "for epoch in range(epochs):\n",
    "    # Предсказание\n",
    "    y_pred = w1 * X_train[:, 0] + w2 * X_train[:, 1] + b\n",
    "    \n",
    "    # Вычисляем ошибку\n",
    "    loss = mse(y_train, y_pred)\n",
    "    losses.append(loss)\n",
    "\n",
    "    # Сохранение истории весов\n",
    "    w1_history.append(w1)\n",
    "    w2_history.append(w2)\n",
    "    b_history.append(b)\n",
    "\n",
    "    # 📌 Вычисление градиентов с учетом L2-регуляризации\n",
    "    dw1 = -2 * np.mean((y_train - y_pred) * X_train[:, 0]) + 2 * lambda_reg * w1\n",
    "    dw2 = -2 * np.mean((y_train - y_pred) * X_train[:, 1]) + 2 * lambda_reg * w2\n",
    "    db = -2 * np.mean(y_train - y_pred)\n",
    "\n",
    "    # 📌 Градиентный клиппинг\n",
    "    dw1 = np.clip(dw1, -clip_value, clip_value)\n",
    "    dw2 = np.clip(dw2, -clip_value, clip_value)\n",
    "    db = np.clip(db, -clip_value, clip_value)\n",
    "\n",
    "    # 📌 Momentum: обновление \"скорости\" градиентов\n",
    "    v_w1 = momentum * v_w1 + learning_rate * dw1\n",
    "    v_w2 = momentum * v_w2 + learning_rate * dw2\n",
    "    v_b = momentum * v_b + learning_rate * db\n",
    "\n",
    "    # 📌 Обновляем веса\n",
    "    w1 -= v_w1\n",
    "    w2 -= v_w2\n",
    "    b -= v_b\n",
    "\n",
    "    # 📌 Вывод ошибки каждые 100 эпох\n",
    "    if epoch % 100 == 0:\n",
    "        print(f\"Эпоха {epoch}, Ошибка: {loss:.3f}, w1={w1:.5f}, w2={w2:.5f}, b={b:.5f}\")\n",
    "\n"
   ]
  },
  {
   "cell_type": "code",
   "execution_count": 43,
   "id": "11716e24",
   "metadata": {},
   "outputs": [
    {
     "data": {
      "image/png": "[encoded data removed]",
      "text/plain": [
       "<Figure size 1200x500 with 2 Axes>"
      ]
     },
     "metadata": {},
     "output_type": "display_data"
    }
   ],
   "source": [
    "# 📌 Визуализация результатов\n",
    "plt.figure(figsize=(12, 5))\n",
    "\n",
    "# График снижения ошибки (Loss Curve)\n",
    "plt.subplot(1, 2, 1)\n",
    "plt.plot(losses, label='MSE Loss', color='blue')\n",
    "plt.xlabel('Эпохи')\n",
    "plt.ylabel('Ошибка')\n",
    "plt.title('График снижения ошибки')\n",
    "plt.legend()\n",
    "\n",
    "# График изменения весов\n",
    "plt.subplot(1, 2, 2)\n",
    "plt.plot(w1_history, label='w1', color='red')\n",
    "plt.plot(w2_history, label='w2', color='green')\n",
    "plt.plot(b_history, label='b', color='orange')\n",
    "plt.xlabel('Эпохи')\n",
    "plt.ylabel('Значение весов')\n",
    "plt.title('Изменение весов')\n",
    "plt.legend()\n",
    "\n",
    "plt.show()"
   ]
  },
  {
   "cell_type": "code",
   "execution_count": 44,
   "id": "d460ae53",
   "metadata": {},
   "outputs": [
    {
     "name": "stdout",
     "output_type": "stream",
     "text": [
      "📊 Ошибка на валидационных данных (MSE): 0.120\n"
     ]
    }
   ],
   "source": [
    "# 📌 Оценка модели на тестовых данных\n",
    "y_val_pred = w1 * X_val[:, 0] + w2 * X_val[:, 1] + b\n",
    "val_loss = mse(y_val, y_val_pred)\n",
    "print(f\"📊 Ошибка на валидационных данных (MSE): {val_loss:.3f}\")"
   ]
  },
  {
   "cell_type": "code",
   "execution_count": 45,
   "id": "66543f88",
   "metadata": {},
   "outputs": [
    {
     "name": "stdout",
     "output_type": "stream",
     "text": [
      "🔮 Предсказанный вес для роста 1.72м и возраста 28 лет: 69.03 кг\n"
     ]
    }
   ],
   "source": [
    "# 📌 Тестируем модель на новых данных\n",
    "рост = 1.72\n",
    "возраст = 28\n",
    "X_new = np.array([[рост, возраст]])\n",
    "X_new = (X_new - mean_X) / std_X  # **Нормализация новых данных**\n",
    "\n",
    "предсказанный_вес_norm = w1 * X_new[0, 0] + w2 * X_new[0, 1] + b\n",
    "предсказанный_вес = (предсказанный_вес_norm * std_y) + mean_y  # **Обратная нормализация**\n",
    "\n",
    "print(f\"🔮 Предсказанный вес для роста {рост}м и возраста {возраст} лет: {предсказанный_вес:.2f} кг\")\n"
   ]
  },
  {
   "cell_type": "code",
   "execution_count": null,
   "id": "31bff7e5",
   "metadata": {},
   "outputs": [],
   "source": []
  }
 ],
 "metadata": {
  "kernelspec": {
   "display_name": "Python 3 (ipykernel)",
   "language": "python",
   "name": "python3"
  },
  "language_info": {
   "codemirror_mode": {
    "name": "ipython",
    "version": 3
   },
   "file_extension": ".py",
   "mimetype": "text/x-python",
   "name": "python",
   "nbconvert_exporter": "python",
   "pygments_lexer": "ipython3",
   "version": "3.7.3"
  }
 },
 "nbformat": 4,
 "nbformat_minor": 5
}
